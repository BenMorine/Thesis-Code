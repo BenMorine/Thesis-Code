{
 "cells": [
  {
   "cell_type": "code",
   "execution_count": 1,
   "metadata": {},
   "outputs": [],
   "source": [
    "k=2\n",
    "q=2\n",
    "n=7\n",
    "F=FiniteField(q)\n",
    "def Ham(x):\n",
    "    V=0\n",
    "    for xi in x:\n",
    "        if xi>0:\n",
    "            V=V+1\n",
    "    return V\n",
    "def W_Ham(X):\n",
    "    return {Ham(x) for x in X}\n",
    "from sage.combinat.cartesian_product import CartesianProduct_iters"
   ]
  },
  {
   "cell_type": "code",
   "execution_count": 2,
   "metadata": {},
   "outputs": [],
   "source": [
    "V={span([u,v]) for (u,v) in CartesianProduct_iters(F^n,F^n)}"
   ]
  },
  {
   "cell_type": "code",
   "execution_count": 3,
   "metadata": {},
   "outputs": [],
   "source": [
    "W=set()\n",
    "for X in V:\n",
    "    if X.dimension()==k:\n",
    "        W.add(X)"
   ]
  },
  {
   "cell_type": "code",
   "execution_count": 4,
   "metadata": {},
   "outputs": [],
   "source": [
    "A={Set(W_Ham(Y)-{0}).cardinality() for Y in W}"
   ]
  },
  {
   "cell_type": "code",
   "execution_count": 5,
   "metadata": {},
   "outputs": [
    {
     "data": {
      "text/plain": [
       "{1, 2, 3}"
      ]
     },
     "execution_count": 5,
     "metadata": {},
     "output_type": "execute_result"
    }
   ],
   "source": [
    "A"
   ]
  },
  {
   "cell_type": "code",
   "execution_count": 6,
   "metadata": {},
   "outputs": [
    {
     "data": {
      "text/plain": [
       "{{1, 5, 6},\n",
       " {3, 5, 6},\n",
       " {2, 5},\n",
       " {1, 2},\n",
       " {2, 5, 7},\n",
       " {2},\n",
       " {4},\n",
       " {1, 4, 5},\n",
       " {3, 6},\n",
       " {3, 4, 7},\n",
       " {1, 3, 4},\n",
       " {1, 2, 3},\n",
       " {3, 4, 5},\n",
       " {2, 3, 5},\n",
       " {2, 4},\n",
       " {1, 6, 7},\n",
       " {3, 4},\n",
       " {2, 4, 6},\n",
       " {4, 5},\n",
       " {2, 6},\n",
       " {2, 3},\n",
       " {4, 6}}"
      ]
     },
     "execution_count": 6,
     "metadata": {},
     "output_type": "execute_result"
    }
   ],
   "source": [
    "H={Set(W_Ham(Q)-{0}) for Q in W}\n",
    "H"
   ]
  },
  {
   "cell_type": "code",
   "execution_count": 7,
   "metadata": {},
   "outputs": [
    {
     "data": {
      "text/plain": [
       "2667"
      ]
     },
     "execution_count": 7,
     "metadata": {},
     "output_type": "execute_result"
    }
   ],
   "source": [
    "Set(W).cardinality()"
   ]
  },
  {
   "cell_type": "code",
   "execution_count": 8,
   "metadata": {},
   "outputs": [
    {
     "data": {
      "text/html": [
       "<html><script type=\"math/tex; mode=display\">\\newcommand{\\Bold}[1]{\\mathbf{#1}}\\mathrm{RowSpan}_{\\Bold{F}_{2}}\\left(\\begin{array}{rrrr}\n",
       "1 & 0 & 0 & 1 \\\\\n",
       "0 & 1 & 0 & 0\n",
       "\\end{array}\\right)</script></html>"
      ],
      "text/latex": [
       "\\begin{math}\n",
       "\\newcommand{\\Bold}[1]{\\mathbf{#1}}\\mathrm{RowSpan}_{\\Bold{F}_{2}}\\left(\\begin{array}{rrrr}\n",
       "1 & 0 & 0 & 1 \\\\\n",
       "0 & 1 & 0 & 0\n",
       "\\end{array}\\right)\n",
       "\\end{math}"
      ],
      "text/plain": [
       "Vector space of degree 4 and dimension 2 over Finite Field of size 2\n",
       "Basis matrix:\n",
       "[1 0 0 1]\n",
       "[0 1 0 0]"
      ]
     },
     "metadata": {},
     "output_type": "display_data"
    },
    {
     "data": {
      "text/html": [
       "<html><script type=\"math/tex; mode=display\">\\newcommand{\\Bold}[1]{\\mathbf{#1}}\\mathrm{RowSpan}_{\\Bold{F}_{2}}\\left(\\begin{array}{rrrr}\n",
       "1 & 0 & 0 & 0 \\\\\n",
       "0 & 1 & 0 & 1\n",
       "\\end{array}\\right)</script></html>"
      ],
      "text/latex": [
       "\\begin{math}\n",
       "\\newcommand{\\Bold}[1]{\\mathbf{#1}}\\mathrm{RowSpan}_{\\Bold{F}_{2}}\\left(\\begin{array}{rrrr}\n",
       "1 & 0 & 0 & 0 \\\\\n",
       "0 & 1 & 0 & 1\n",
       "\\end{array}\\right)\n",
       "\\end{math}"
      ],
      "text/plain": [
       "Vector space of degree 4 and dimension 2 over Finite Field of size 2\n",
       "Basis matrix:\n",
       "[1 0 0 0]\n",
       "[0 1 0 1]"
      ]
     },
     "metadata": {},
     "output_type": "display_data"
    },
    {
     "data": {
      "text/html": [
       "<html><script type=\"math/tex; mode=display\">\\newcommand{\\Bold}[1]{\\mathbf{#1}}\\mathrm{RowSpan}_{\\Bold{F}_{2}}\\left(\\begin{array}{rrrr}\n",
       "1 & 0 & 0 & 0 \\\\\n",
       "0 & 1 & 1 & 0\n",
       "\\end{array}\\right)</script></html>"
      ],
      "text/latex": [
       "\\begin{math}\n",
       "\\newcommand{\\Bold}[1]{\\mathbf{#1}}\\mathrm{RowSpan}_{\\Bold{F}_{2}}\\left(\\begin{array}{rrrr}\n",
       "1 & 0 & 0 & 0 \\\\\n",
       "0 & 1 & 1 & 0\n",
       "\\end{array}\\right)\n",
       "\\end{math}"
      ],
      "text/plain": [
       "Vector space of degree 4 and dimension 2 over Finite Field of size 2\n",
       "Basis matrix:\n",
       "[1 0 0 0]\n",
       "[0 1 1 0]"
      ]
     },
     "metadata": {},
     "output_type": "display_data"
    },
    {
     "data": {
      "text/html": [
       "<html><script type=\"math/tex; mode=display\">\\newcommand{\\Bold}[1]{\\mathbf{#1}}\\mathrm{RowSpan}_{\\Bold{F}_{2}}\\left(\\begin{array}{rrrr}\n",
       "0 & 1 & 1 & 0 \\\\\n",
       "0 & 0 & 0 & 1\n",
       "\\end{array}\\right)</script></html>"
      ],
      "text/latex": [
       "\\begin{math}\n",
       "\\newcommand{\\Bold}[1]{\\mathbf{#1}}\\mathrm{RowSpan}_{\\Bold{F}_{2}}\\left(\\begin{array}{rrrr}\n",
       "0 & 1 & 1 & 0 \\\\\n",
       "0 & 0 & 0 & 1\n",
       "\\end{array}\\right)\n",
       "\\end{math}"
      ],
      "text/plain": [
       "Vector space of degree 4 and dimension 2 over Finite Field of size 2\n",
       "Basis matrix:\n",
       "[0 1 1 0]\n",
       "[0 0 0 1]"
      ]
     },
     "metadata": {},
     "output_type": "display_data"
    },
    {
     "data": {
      "text/html": [
       "<html><script type=\"math/tex; mode=display\">\\newcommand{\\Bold}[1]{\\mathbf{#1}}\\mathrm{RowSpan}_{\\Bold{F}_{2}}\\left(\\begin{array}{rrrr}\n",
       "1 & 0 & 1 & 0 \\\\\n",
       "0 & 1 & 0 & 0\n",
       "\\end{array}\\right)</script></html>"
      ],
      "text/latex": [
       "\\begin{math}\n",
       "\\newcommand{\\Bold}[1]{\\mathbf{#1}}\\mathrm{RowSpan}_{\\Bold{F}_{2}}\\left(\\begin{array}{rrrr}\n",
       "1 & 0 & 1 & 0 \\\\\n",
       "0 & 1 & 0 & 0\n",
       "\\end{array}\\right)\n",
       "\\end{math}"
      ],
      "text/plain": [
       "Vector space of degree 4 and dimension 2 over Finite Field of size 2\n",
       "Basis matrix:\n",
       "[1 0 1 0]\n",
       "[0 1 0 0]"
      ]
     },
     "metadata": {},
     "output_type": "display_data"
    },
    {
     "data": {
      "text/html": [
       "<html><script type=\"math/tex; mode=display\">\\newcommand{\\Bold}[1]{\\mathbf{#1}}\\mathrm{RowSpan}_{\\Bold{F}_{2}}\\left(\\begin{array}{rrrr}\n",
       "1 & 1 & 0 & 0 \\\\\n",
       "0 & 0 & 1 & 0\n",
       "\\end{array}\\right)</script></html>"
      ],
      "text/latex": [
       "\\begin{math}\n",
       "\\newcommand{\\Bold}[1]{\\mathbf{#1}}\\mathrm{RowSpan}_{\\Bold{F}_{2}}\\left(\\begin{array}{rrrr}\n",
       "1 & 1 & 0 & 0 \\\\\n",
       "0 & 0 & 1 & 0\n",
       "\\end{array}\\right)\n",
       "\\end{math}"
      ],
      "text/plain": [
       "Vector space of degree 4 and dimension 2 over Finite Field of size 2\n",
       "Basis matrix:\n",
       "[1 1 0 0]\n",
       "[0 0 1 0]"
      ]
     },
     "metadata": {},
     "output_type": "display_data"
    },
    {
     "data": {
      "text/html": [
       "<html><script type=\"math/tex; mode=display\">\\newcommand{\\Bold}[1]{\\mathbf{#1}}\\mathrm{RowSpan}_{\\Bold{F}_{2}}\\left(\\begin{array}{rrrr}\n",
       "1 & 0 & 1 & 0 \\\\\n",
       "0 & 0 & 0 & 1\n",
       "\\end{array}\\right)</script></html>"
      ],
      "text/latex": [
       "\\begin{math}\n",
       "\\newcommand{\\Bold}[1]{\\mathbf{#1}}\\mathrm{RowSpan}_{\\Bold{F}_{2}}\\left(\\begin{array}{rrrr}\n",
       "1 & 0 & 1 & 0 \\\\\n",
       "0 & 0 & 0 & 1\n",
       "\\end{array}\\right)\n",
       "\\end{math}"
      ],
      "text/plain": [
       "Vector space of degree 4 and dimension 2 over Finite Field of size 2\n",
       "Basis matrix:\n",
       "[1 0 1 0]\n",
       "[0 0 0 1]"
      ]
     },
     "metadata": {},
     "output_type": "display_data"
    },
    {
     "data": {
      "text/html": [
       "<html><script type=\"math/tex; mode=display\">\\newcommand{\\Bold}[1]{\\mathbf{#1}}\\mathrm{RowSpan}_{\\Bold{F}_{2}}\\left(\\begin{array}{rrrr}\n",
       "0 & 1 & 0 & 1 \\\\\n",
       "0 & 0 & 1 & 0\n",
       "\\end{array}\\right)</script></html>"
      ],
      "text/latex": [
       "\\begin{math}\n",
       "\\newcommand{\\Bold}[1]{\\mathbf{#1}}\\mathrm{RowSpan}_{\\Bold{F}_{2}}\\left(\\begin{array}{rrrr}\n",
       "0 & 1 & 0 & 1 \\\\\n",
       "0 & 0 & 1 & 0\n",
       "\\end{array}\\right)\n",
       "\\end{math}"
      ],
      "text/plain": [
       "Vector space of degree 4 and dimension 2 over Finite Field of size 2\n",
       "Basis matrix:\n",
       "[0 1 0 1]\n",
       "[0 0 1 0]"
      ]
     },
     "metadata": {},
     "output_type": "display_data"
    },
    {
     "data": {
      "text/html": [
       "<html><script type=\"math/tex; mode=display\">\\newcommand{\\Bold}[1]{\\mathbf{#1}}\\mathrm{RowSpan}_{\\Bold{F}_{2}}\\left(\\begin{array}{rrrr}\n",
       "1 & 0 & 0 & 0 \\\\\n",
       "0 & 1 & 1 & 1\n",
       "\\end{array}\\right)</script></html>"
      ],
      "text/latex": [
       "\\begin{math}\n",
       "\\newcommand{\\Bold}[1]{\\mathbf{#1}}\\mathrm{RowSpan}_{\\Bold{F}_{2}}\\left(\\begin{array}{rrrr}\n",
       "1 & 0 & 0 & 0 \\\\\n",
       "0 & 1 & 1 & 1\n",
       "\\end{array}\\right)\n",
       "\\end{math}"
      ],
      "text/plain": [
       "Vector space of degree 4 and dimension 2 over Finite Field of size 2\n",
       "Basis matrix:\n",
       "[1 0 0 0]\n",
       "[0 1 1 1]"
      ]
     },
     "metadata": {},
     "output_type": "display_data"
    },
    {
     "data": {
      "text/html": [
       "<html><script type=\"math/tex; mode=display\">\\newcommand{\\Bold}[1]{\\mathbf{#1}}\\mathrm{RowSpan}_{\\Bold{F}_{2}}\\left(\\begin{array}{rrrr}\n",
       "1 & 1 & 1 & 0 \\\\\n",
       "0 & 0 & 0 & 1\n",
       "\\end{array}\\right)</script></html>"
      ],
      "text/latex": [
       "\\begin{math}\n",
       "\\newcommand{\\Bold}[1]{\\mathbf{#1}}\\mathrm{RowSpan}_{\\Bold{F}_{2}}\\left(\\begin{array}{rrrr}\n",
       "1 & 1 & 1 & 0 \\\\\n",
       "0 & 0 & 0 & 1\n",
       "\\end{array}\\right)\n",
       "\\end{math}"
      ],
      "text/plain": [
       "Vector space of degree 4 and dimension 2 over Finite Field of size 2\n",
       "Basis matrix:\n",
       "[1 1 1 0]\n",
       "[0 0 0 1]"
      ]
     },
     "metadata": {},
     "output_type": "display_data"
    },
    {
     "data": {
      "text/html": [
       "<html><script type=\"math/tex; mode=display\">\\newcommand{\\Bold}[1]{\\mathbf{#1}}\\mathrm{RowSpan}_{\\Bold{F}_{2}}\\left(\\begin{array}{rrrr}\n",
       "1 & 0 & 0 & 1 \\\\\n",
       "0 & 0 & 1 & 0\n",
       "\\end{array}\\right)</script></html>"
      ],
      "text/latex": [
       "\\begin{math}\n",
       "\\newcommand{\\Bold}[1]{\\mathbf{#1}}\\mathrm{RowSpan}_{\\Bold{F}_{2}}\\left(\\begin{array}{rrrr}\n",
       "1 & 0 & 0 & 1 \\\\\n",
       "0 & 0 & 1 & 0\n",
       "\\end{array}\\right)\n",
       "\\end{math}"
      ],
      "text/plain": [
       "Vector space of degree 4 and dimension 2 over Finite Field of size 2\n",
       "Basis matrix:\n",
       "[1 0 0 1]\n",
       "[0 0 1 0]"
      ]
     },
     "metadata": {},
     "output_type": "display_data"
    },
    {
     "data": {
      "text/html": [
       "<html><script type=\"math/tex; mode=display\">\\newcommand{\\Bold}[1]{\\mathbf{#1}}\\mathrm{RowSpan}_{\\Bold{F}_{2}}\\left(\\begin{array}{rrrr}\n",
       "1 & 0 & 1 & 1 \\\\\n",
       "0 & 1 & 0 & 0\n",
       "\\end{array}\\right)</script></html>"
      ],
      "text/latex": [
       "\\begin{math}\n",
       "\\newcommand{\\Bold}[1]{\\mathbf{#1}}\\mathrm{RowSpan}_{\\Bold{F}_{2}}\\left(\\begin{array}{rrrr}\n",
       "1 & 0 & 1 & 1 \\\\\n",
       "0 & 1 & 0 & 0\n",
       "\\end{array}\\right)\n",
       "\\end{math}"
      ],
      "text/plain": [
       "Vector space of degree 4 and dimension 2 over Finite Field of size 2\n",
       "Basis matrix:\n",
       "[1 0 1 1]\n",
       "[0 1 0 0]"
      ]
     },
     "metadata": {},
     "output_type": "display_data"
    },
    {
     "data": {
      "text/html": [
       "<html><script type=\"math/tex; mode=display\">\\newcommand{\\Bold}[1]{\\mathbf{#1}}\\mathrm{RowSpan}_{\\Bold{F}_{2}}\\left(\\begin{array}{rrrr}\n",
       "1 & 1 & 0 & 1 \\\\\n",
       "0 & 0 & 1 & 0\n",
       "\\end{array}\\right)</script></html>"
      ],
      "text/latex": [
       "\\begin{math}\n",
       "\\newcommand{\\Bold}[1]{\\mathbf{#1}}\\mathrm{RowSpan}_{\\Bold{F}_{2}}\\left(\\begin{array}{rrrr}\n",
       "1 & 1 & 0 & 1 \\\\\n",
       "0 & 0 & 1 & 0\n",
       "\\end{array}\\right)\n",
       "\\end{math}"
      ],
      "text/plain": [
       "Vector space of degree 4 and dimension 2 over Finite Field of size 2\n",
       "Basis matrix:\n",
       "[1 1 0 1]\n",
       "[0 0 1 0]"
      ]
     },
     "metadata": {},
     "output_type": "display_data"
    },
    {
     "data": {
      "text/html": [
       "<html><script type=\"math/tex; mode=display\">\\newcommand{\\Bold}[1]{\\mathbf{#1}}\\mathrm{RowSpan}_{\\Bold{F}_{2}}\\left(\\begin{array}{rrrr}\n",
       "1 & 1 & 0 & 0 \\\\\n",
       "0 & 0 & 0 & 1\n",
       "\\end{array}\\right)</script></html>"
      ],
      "text/latex": [
       "\\begin{math}\n",
       "\\newcommand{\\Bold}[1]{\\mathbf{#1}}\\mathrm{RowSpan}_{\\Bold{F}_{2}}\\left(\\begin{array}{rrrr}\n",
       "1 & 1 & 0 & 0 \\\\\n",
       "0 & 0 & 0 & 1\n",
       "\\end{array}\\right)\n",
       "\\end{math}"
      ],
      "text/plain": [
       "Vector space of degree 4 and dimension 2 over Finite Field of size 2\n",
       "Basis matrix:\n",
       "[1 1 0 0]\n",
       "[0 0 0 1]"
      ]
     },
     "metadata": {},
     "output_type": "display_data"
    },
    {
     "data": {
      "text/html": [
       "<html><script type=\"math/tex; mode=display\">\\newcommand{\\Bold}[1]{\\mathbf{#1}}\\mathrm{RowSpan}_{\\Bold{F}_{2}}\\left(\\begin{array}{rrrr}\n",
       "1 & 0 & 0 & 0 \\\\\n",
       "0 & 0 & 1 & 1\n",
       "\\end{array}\\right)</script></html>"
      ],
      "text/latex": [
       "\\begin{math}\n",
       "\\newcommand{\\Bold}[1]{\\mathbf{#1}}\\mathrm{RowSpan}_{\\Bold{F}_{2}}\\left(\\begin{array}{rrrr}\n",
       "1 & 0 & 0 & 0 \\\\\n",
       "0 & 0 & 1 & 1\n",
       "\\end{array}\\right)\n",
       "\\end{math}"
      ],
      "text/plain": [
       "Vector space of degree 4 and dimension 2 over Finite Field of size 2\n",
       "Basis matrix:\n",
       "[1 0 0 0]\n",
       "[0 0 1 1]"
      ]
     },
     "metadata": {},
     "output_type": "display_data"
    },
    {
     "data": {
      "text/html": [
       "<html><script type=\"math/tex; mode=display\">\\newcommand{\\Bold}[1]{\\mathbf{#1}}\\mathrm{RowSpan}_{\\Bold{F}_{2}}\\left(\\begin{array}{rrrr}\n",
       "0 & 1 & 0 & 0 \\\\\n",
       "0 & 0 & 1 & 1\n",
       "\\end{array}\\right)</script></html>"
      ],
      "text/latex": [
       "\\begin{math}\n",
       "\\newcommand{\\Bold}[1]{\\mathbf{#1}}\\mathrm{RowSpan}_{\\Bold{F}_{2}}\\left(\\begin{array}{rrrr}\n",
       "0 & 1 & 0 & 0 \\\\\n",
       "0 & 0 & 1 & 1\n",
       "\\end{array}\\right)\n",
       "\\end{math}"
      ],
      "text/plain": [
       "Vector space of degree 4 and dimension 2 over Finite Field of size 2\n",
       "Basis matrix:\n",
       "[0 1 0 0]\n",
       "[0 0 1 1]"
      ]
     },
     "metadata": {},
     "output_type": "display_data"
    }
   ],
   "source": [
    "for T in W:\n",
    "    if Set(W_Ham(T)-{0}).cardinality()==3:\n",
    "        show(T)"
   ]
  },
  {
   "cell_type": "code",
   "execution_count": 8,
   "metadata": {},
   "outputs": [],
   "source": [
    "E=set()\n",
    "for P in W:\n",
    "    if Set(W_Ham(P)-{0}).cardinality()==3:\n",
    "        E.add(P)"
   ]
  },
  {
   "cell_type": "code",
   "execution_count": 9,
   "metadata": {},
   "outputs": [
    {
     "data": {
      "text/plain": [
       "1295"
      ]
     },
     "execution_count": 9,
     "metadata": {},
     "output_type": "execute_result"
    }
   ],
   "source": [
    "Set(E).cardinality()"
   ]
  },
  {
   "cell_type": "code",
   "execution_count": null,
   "metadata": {},
   "outputs": [],
   "source": []
  }
 ],
 "metadata": {
  "kernelspec": {
   "display_name": "SageMath 9.2",
   "language": "sage",
   "name": "sagemath"
  },
  "language_info": {
   "codemirror_mode": {
    "name": "ipython",
    "version": 3
   },
   "file_extension": ".py",
   "mimetype": "text/x-python",
   "name": "python",
   "nbconvert_exporter": "python",
   "pygments_lexer": "ipython3",
   "version": "3.7.7"
  }
 },
 "nbformat": 4,
 "nbformat_minor": 4
}
