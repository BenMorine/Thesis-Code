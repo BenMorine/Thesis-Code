{
 "cells": [
  {
   "cell_type": "code",
   "execution_count": 1,
   "metadata": {},
   "outputs": [],
   "source": [
    "k=2\n",
    "q=7\n",
    "n=4\n",
    "F=FiniteField(q)\n",
    "def Lee(x):\n",
    "    return sum([ZZ(min(xi,q-xi)) for xi in x])\n",
    "def W_Lee(X):\n",
    "    return {Lee(x) for x in X}\n",
    "from sage.combinat.cartesian_product import CartesianProduct_iters"
   ]
  },
  {
   "cell_type": "code",
   "execution_count": 2,
   "metadata": {},
   "outputs": [],
   "source": [
    "V={span([v,u]) for (v,u) in CartesianProduct_iters(F^n,F^n)}"
   ]
  },
  {
   "cell_type": "code",
   "execution_count": 3,
   "metadata": {},
   "outputs": [],
   "source": [
    "W=set()\n",
    "for X in V:\n",
    "    if X.dimension()==k:\n",
    "        W.add(X)"
   ]
  },
  {
   "cell_type": "code",
   "execution_count": 4,
   "metadata": {},
   "outputs": [],
   "source": [
    "A={Set(W_Lee(Y)-{0}).cardinality() for Y in W}"
   ]
  },
  {
   "cell_type": "code",
   "execution_count": 5,
   "metadata": {},
   "outputs": [
    {
     "data": {
      "text/plain": [
       "{4, 6, 7, 8, 9, 10, 12}"
      ]
     },
     "execution_count": 5,
     "metadata": {},
     "output_type": "execute_result"
    }
   ],
   "source": [
    "A"
   ]
  },
  {
   "cell_type": "code",
   "execution_count": 6,
   "metadata": {},
   "outputs": [
    {
     "data": {
      "text/plain": [
       "2850"
      ]
     },
     "execution_count": 6,
     "metadata": {},
     "output_type": "execute_result"
    }
   ],
   "source": [
    "Set(W).cardinality()"
   ]
  },
  {
   "cell_type": "code",
   "execution_count": 8,
   "metadata": {},
   "outputs": [
    {
     "data": {
      "text/plain": [
       "{{2, 4, 6, 7},\n",
       " {4, 6, 7, 8, 9, 10, 12},\n",
       " {1, 2, 3, 4, 5, 6, 7, 8, 9, 10},\n",
       " {9, 10, 5, 6},\n",
       " {2, 4, 6, 7, 8, 9, 11, 12},\n",
       " {2, 3, 4, 5, 6, 8, 9},\n",
       " {1, 2, 3, 4, 5, 6, 7, 8, 9, 10, 11, 12},\n",
       " {3, 4, 6, 7, 8, 9},\n",
       " {1, 2, 3, 5, 6, 7, 8, 9, 10, 11},\n",
       " {2, 4, 6, 7, 8, 9, 10},\n",
       " {3, 4, 5, 6, 7, 8, 9, 10},\n",
       " {4, 5, 6, 7, 8, 9, 11},\n",
       " {1, 2, 3, 6, 7, 8, 9},\n",
       " {3, 5, 6, 7, 8, 9, 11},\n",
       " {4, 5, 6, 7, 8, 9, 12},\n",
       " {8, 10, 5, 6},\n",
       " {2, 3, 4, 5, 6, 7, 8, 9, 10},\n",
       " {1, 2, 3, 4, 5, 6, 7, 8, 9},\n",
       " {1, 2, 3, 4, 5, 6, 7, 8},\n",
       " {2, 4, 6, 7, 8, 9, 10, 11},\n",
       " {3, 4, 5, 6, 7, 9},\n",
       " {2, 3, 4, 5, 6, 7, 8},\n",
       " {2, 3, 4, 5, 6, 7, 8, 9, 10, 11},\n",
       " {1, 2, 3, 4, 5, 6},\n",
       " {2, 4, 5, 6, 7, 8, 9, 10, 11},\n",
       " {4, 5, 6, 7, 8, 9, 10, 11},\n",
       " {3, 4, 5, 6, 7, 8, 9, 10, 12},\n",
       " {2, 4, 5, 6, 7, 8, 9, 10},\n",
       " {2, 4, 6, 8, 10, 12},\n",
       " {3, 4, 5, 6, 7, 8, 9, 10, 11},\n",
       " {3, 4, 5, 6, 7, 8, 9, 10, 11, 12},\n",
       " {4, 5, 7, 8, 9, 10},\n",
       " {4, 6, 7, 8, 10, 11}}"
      ]
     },
     "execution_count": 8,
     "metadata": {},
     "output_type": "execute_result"
    }
   ],
   "source": [
    "H={Set(W_Lee(Q)-{0}) for Q in W}\n",
    "H"
   ]
  },
  {
   "cell_type": "code",
   "execution_count": 9,
   "metadata": {},
   "outputs": [
    {
     "data": {
      "text/plain": [
       "16"
      ]
     },
     "execution_count": 9,
     "metadata": {},
     "output_type": "execute_result"
    }
   ],
   "source": [
    "Z=set()\n",
    "for T in W:\n",
    "    if Set(W_Lee(T)-{0}).cardinality()==12:\n",
    "        Z.add(T)\n",
    "Set(Z).cardinality()"
   ]
  },
  {
   "cell_type": "code",
   "execution_count": null,
   "metadata": {},
   "outputs": [],
   "source": []
  }
 ],
 "metadata": {
  "kernelspec": {
   "display_name": "SageMath 9.2",
   "language": "sage",
   "name": "sagemath"
  },
  "language_info": {
   "codemirror_mode": {
    "name": "ipython",
    "version": 3
   },
   "file_extension": ".py",
   "mimetype": "text/x-python",
   "name": "python",
   "nbconvert_exporter": "python",
   "pygments_lexer": "ipython3",
   "version": "3.7.7"
  }
 },
 "nbformat": 4,
 "nbformat_minor": 4
}
